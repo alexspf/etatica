{
 "cells": [
  {
   "cell_type": "code",
   "execution_count": 13,
   "metadata": {},
   "outputs": [],
   "source": [
    "import pandas as pd\n",
    "import numpy as np\n",
    "import random\n",
    "dataset=pd.read_csv(\"example/census.csv\")\n",
    "datamod=dataset.copy()  "
   ]
  },
  {
   "cell_type": "markdown",
   "metadata": {
    "tags": [
     "parameters"
    ]
   },
   "source": [
    "### Simple sampling "
   ]
  },
  {
   "cell_type": "code",
   "execution_count": 42,
   "metadata": {},
   "outputs": [
    {
     "data": {
      "text/plain": [
       "(500, 15)"
      ]
     },
     "execution_count": 42,
     "metadata": {},
     "output_type": "execute_result"
    }
   ],
   "source": [
    "def simple_sampling(datasset,_,__,):\n",
    "    return datasset.sample(n=_,random_state=__ )  ##frac or n, whichever is larrger\n",
    "data_simple_sample=simple_sampling(datamod,500,2)\n",
    "data_simple_sample.shape"
   ]
  },
  {
   "cell_type": "code",
   "execution_count": null,
   "metadata": {},
   "outputs": [],
   "source": [
    "data_simple_sample.isna().sum()"
   ]
  },
  {
   "cell_type": "markdown",
   "metadata": {},
   "source": [
    "### Sistematic sampling"
   ]
  },
  {
   "cell_type": "code",
   "execution_count": 48,
   "metadata": {},
   "outputs": [
    {
     "data": {
      "text/plain": [
       "(100, 15)"
      ]
     },
     "execution_count": 48,
     "metadata": {},
     "output_type": "execute_result"
    }
   ],
   "source": [
    "def systematic_sampling(datasset, samples_number, seed):\n",
    "    step= round(len(datasset) / samples_number)\n",
    "    datasset=datasset.sample(frac=1, random_state=seed).copy  ## better results \n",
    "    first_step=np.random.randint(0, step)\n",
    "    index=np.arange(first_step, len(datamod), step)\n",
    "    return dataset.iloc[index]\n",
    "data_systematic_sampling=systematic_sampling(datamod,100,1)\n",
    "data_systematic_sampling.shape\n"
   ]
  },
  {
   "cell_type": "markdown",
   "metadata": {},
   "source": [
    "### Grouping_sampling"
   ]
  },
  {
   "cell_type": "code",
   "execution_count": 44,
   "metadata": {},
   "outputs": [],
   "source": [
    "def grounping_sampling(datasset, group_number,seed ):\n",
    "    id_group, count, groups = 0,0, []\n",
    "    \n",
    "    group_size = round(len(datasset) / group_number)\n",
    "\n",
    "    datasset=datasset.sample(frac=1, random_state=seed).copy()\n",
    "\n",
    "    for _ in datasset.iterrows():\n",
    "        groups.append(id_group)\n",
    "        count += 1\n",
    "        if count == group_size :\n",
    "            count = 0\n",
    "            id_group += 1\n",
    "    datasset['groups'] = groups\n",
    "    np.random.seed=seed\n",
    "    selected_group= np.random.randint(0, id_group )\n",
    "    return datasset[datasset['groups'] == selected_group]\n",
    "            \n",
    "data_grouping_sampling=grounping_sampling(datamod, 10,2)\n",
    "\n"
   ]
  },
  {
   "cell_type": "code",
   "execution_count": 89,
   "metadata": {},
   "outputs": [
    {
     "data": {
      "text/plain": [
       "(3256, 16)"
      ]
     },
     "execution_count": 89,
     "metadata": {},
     "output_type": "execute_result"
    }
   ],
   "source": [
    "data_grouping_sampling.shape"
   ]
  },
  {
   "cell_type": "markdown",
   "metadata": {},
   "source": [
    "### Stratified Sampling"
   ]
  },
  {
   "cell_type": "code",
   "execution_count": 6,
   "metadata": {},
   "outputs": [],
   "source": [
    "from sklearn.model_selection import StratifiedShuffleSplit\n"
   ]
  },
  {
   "cell_type": "code",
   "execution_count": 39,
   "metadata": {},
   "outputs": [],
   "source": [
    "def stratified_sampling(datamod, test_siz,seed):\n",
    "    split=StratifiedShuffleSplit(test_size=test_siz, random_state=seed)\n",
    "    \n",
    "    for x,y in split.split(datamod,datamod ['income']):\n",
    "        df_x = datamod.iloc[x]   ## dont need, is original data fracional \n",
    "        df_y = datamod.iloc[y]\n",
    "    return df_x, df_y\n",
    "df_x , df_y = stratified_sampling(datamod, 0.2,2 )\n",
    "data_stratified_sampling=df_y.copy()"
   ]
  },
  {
   "cell_type": "code",
   "execution_count": 40,
   "metadata": {},
   "outputs": [
    {
     "data": {
      "text/plain": [
       "((26048, 15), (6513, 15), (32561, 15))"
      ]
     },
     "execution_count": 40,
     "metadata": {},
     "output_type": "execute_result"
    }
   ],
   "source": [
    "df_x.shape ,  df_y.shape, datamod.shape"
   ]
  },
  {
   "cell_type": "markdown",
   "metadata": {},
   "source": [
    "### Reservoir Sampling // E-commerce style ( no fund)"
   ]
  },
  {
   "cell_type": "code",
   "execution_count": 53,
   "metadata": {},
   "outputs": [],
   "source": [
    "import numpy as np\n",
    "\n",
    "def resevoir_sampling(dataset, n):\n",
    "    stream = []\n",
    "    for i in range(len(dataset)):\n",
    "        stream.append(i)\n",
    "\n",
    "    reservoir = [dataset.iloc[i] for i in range(n)]\n",
    "    i = n\n",
    "    while i < len(dataset):\n",
    "        j = np.random.randint(0, i + 1)\n",
    "        if j < n:\n",
    "            reservoir[j] = dataset.iloc[i]\n",
    "        i += 1\n",
    "    return pd.DataFrame(reservoir)\n",
    "\n",
    "data_resevoir_sample = resevoir_sampling(datamod, 10)"
   ]
  },
  {
   "cell_type": "code",
   "execution_count": 19,
   "metadata": {},
   "outputs": [
    {
     "data": {
      "text/plain": [
       "(100, 15)"
      ]
     },
     "execution_count": 19,
     "metadata": {},
     "output_type": "execute_result"
    }
   ],
   "source": [
    "data_resevoir_sample.shape"
   ]
  },
  {
   "cell_type": "markdown",
   "metadata": {},
   "source": [
    "### Test_samples"
   ]
  },
  {
   "cell_type": "code",
   "execution_count": 49,
   "metadata": {},
   "outputs": [
    {
     "data": {
      "text/plain": [
       "(38.58164675532078,\n",
       " 37.172,\n",
       " 37.9,\n",
       " 38.083230958230956,\n",
       " 38.414248426224475,\n",
       " 37.51)"
      ]
     },
     "execution_count": 49,
     "metadata": {},
     "output_type": "execute_result"
    }
   ],
   "source": [
    "datamod[\"age\"].mean() , data_simple_sample[\"age\"].mean() , data_systematic_sampling[\"age\"].mean(), data_grouping_sampling[\"age\"].mean(), data_stratified_sampling[\"age\"].mean() ,data_resevoir_sample[\"age\"].mean()"
   ]
  }
 ],
 "metadata": {
  "kernelspec": {
   "display_name": "Python 3",
   "language": "python",
   "name": "python3"
  },
  "language_info": {
   "codemirror_mode": {
    "name": "ipython",
    "version": 3
   },
   "file_extension": ".py",
   "mimetype": "text/x-python",
   "name": "python",
   "nbconvert_exporter": "python",
   "pygments_lexer": "ipython3",
   "version": "3.10.12"
  }
 },
 "nbformat": 4,
 "nbformat_minor": 2
}

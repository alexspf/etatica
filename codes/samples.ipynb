{
 "cells": [
  {
   "cell_type": "code",
   "execution_count": 29,
   "metadata": {},
   "outputs": [],
   "source": [
    "import pandas as pd\n",
    "import numpy as np\n",
    "import random\n",
    "dataset=pd.read_csv(\"example/census.csv\")\n",
    "datamod=dataset.copy()  "
   ]
  },
  {
   "cell_type": "markdown",
   "metadata": {
    "tags": [
     "parameters"
    ]
   },
   "source": [
    "### Simple sampling "
   ]
  },
  {
   "cell_type": "code",
   "execution_count": 15,
   "metadata": {},
   "outputs": [
    {
     "data": {
      "text/plain": [
       "(500, 15)"
      ]
     },
     "execution_count": 15,
     "metadata": {},
     "output_type": "execute_result"
    }
   ],
   "source": [
    "def simple_sampling(datasset,_,__,):\n",
    "    return datasset.sample(n=_,random_state=__ )  ##frac or n, whichever is larrger\n",
    "data_simple_sample=simple_sampling(datamod,500,2)\n",
    "data_simple_sample.shape"
   ]
  },
  {
   "cell_type": "code",
   "execution_count": 4,
   "metadata": {},
   "outputs": [
    {
     "data": {
      "text/plain": [
       "age               0\n",
       "workclass         0\n",
       "final-weight      0\n",
       "education         0\n",
       "education-num     0\n",
       "marital-status    0\n",
       "occupation        0\n",
       "relationship      0\n",
       "race              0\n",
       "sex               0\n",
       "capital-gain      0\n",
       "capital-loos      0\n",
       "hour-per-week     0\n",
       "native-country    0\n",
       "income            0\n",
       "dtype: int64"
      ]
     },
     "execution_count": 4,
     "metadata": {},
     "output_type": "execute_result"
    }
   ],
   "source": [
    "data_simple_sample.isna().sum()"
   ]
  },
  {
   "cell_type": "markdown",
   "metadata": {},
   "source": [
    "### Sistematic sampling"
   ]
  },
  {
   "cell_type": "code",
   "execution_count": 32,
   "metadata": {},
   "outputs": [
    {
     "data": {
      "text/plain": [
       "(101, 15)"
      ]
     },
     "execution_count": 32,
     "metadata": {},
     "output_type": "execute_result"
    }
   ],
   "source": [
    "def systematic_sampling(datasset, samples, seed):\n",
    "    step=len(datasset) // samples\n",
    "    datasset=datasset.sample(frac=1, random_state=seed).copy  ## better results \n",
    "    np.random.seed(seed)  \n",
    "    first_step=np.random.randint(0, step)\n",
    "    index=np.arange(first_step, len(datamod), step)\n",
    "    return dataset.iloc[index]\n",
    "data_systematic_sampling=systematic_sampling(datamod,100,1)\n",
    "data_systematic_sampling.shape"
   ]
  },
  {
   "cell_type": "markdown",
   "metadata": {},
   "source": [
    "### Grouping_sampling"
   ]
  },
  {
   "cell_type": "code",
   "execution_count": 31,
   "metadata": {},
   "outputs": [
    {
     "ename": "TypeError",
     "evalue": "object of type 'method' has no len()",
     "output_type": "error",
     "traceback": [
      "\u001b[0;31m---------------------------------------------------------------------------\u001b[0m",
      "\u001b[0;31mTypeError\u001b[0m                                 Traceback (most recent call last)",
      "Cell \u001b[0;32mIn[31], line 9\u001b[0m\n\u001b[1;32m      7\u001b[0m         groups\u001b[38;5;241m.\u001b[39mextend(group_id \u001b[38;5;28;01mfor\u001b[39;00m _ \u001b[38;5;129;01min\u001b[39;00m datasset\u001b[38;5;241m.\u001b[39miterrows())\n\u001b[1;32m      8\u001b[0m     \u001b[38;5;28;01mreturn\u001b[39;00m groups\n\u001b[0;32m----> 9\u001b[0m group\u001b[38;5;241m=\u001b[39m\u001b[43mgrounping_sampling\u001b[49m\u001b[43m(\u001b[49m\u001b[43mdatamod\u001b[49m\u001b[43m,\u001b[49m\u001b[43m \u001b[49m\u001b[38;5;241;43m10\u001b[39;49m\u001b[43m,\u001b[49m\u001b[38;5;241;43m2\u001b[39;49m\u001b[43m)\u001b[49m\n",
      "Cell \u001b[0;32mIn[31], line 4\u001b[0m, in \u001b[0;36mgrounping_sampling\u001b[0;34m(datasset, groups_number, seed)\u001b[0m\n\u001b[1;32m      2\u001b[0m id_groups, count, groups \u001b[38;5;241m=\u001b[39m \u001b[38;5;241m0\u001b[39m,\u001b[38;5;241m0\u001b[39m, []\n\u001b[1;32m      3\u001b[0m datasset\u001b[38;5;241m=\u001b[39mdatasset\u001b[38;5;241m.\u001b[39msample(frac\u001b[38;5;241m=\u001b[39m\u001b[38;5;241m1\u001b[39m, random_state\u001b[38;5;241m=\u001b[39mseed)\u001b[38;5;241m.\u001b[39mcopy  \u001b[38;5;66;03m## better results, random groups\u001b[39;00m\n\u001b[0;32m----> 4\u001b[0m group_size\u001b[38;5;241m=\u001b[39m \u001b[38;5;28;43mlen\u001b[39;49m\u001b[43m(\u001b[49m\u001b[43mdatasset\u001b[49m\u001b[43m)\u001b[49m \u001b[38;5;241m/\u001b[39m\u001b[38;5;241m/\u001b[39m groups_number\n\u001b[1;32m      6\u001b[0m \u001b[38;5;28;01mwhile\u001b[39;00m count \u001b[38;5;241m<\u001b[39m group_size:\n\u001b[1;32m      7\u001b[0m     groups\u001b[38;5;241m.\u001b[39mextend(group_id \u001b[38;5;28;01mfor\u001b[39;00m _ \u001b[38;5;129;01min\u001b[39;00m datasset\u001b[38;5;241m.\u001b[39miterrows())\n",
      "\u001b[0;31mTypeError\u001b[0m: object of type 'method' has no len()"
     ]
    }
   ],
   "source": [
    "def grounping_sampling(datasset, groups_number,seed ):\n",
    "    id_groups, count, groups = 0,0, []\n",
    "    datasset=datasset.sample(frac=1, random_state=seed).copy  ## better results, random groups\n",
    "    group_size= len(datasset) // groups_number\n",
    "\n",
    "    while count < group_size:\n",
    "        groups.extend(group_id for _ in datasset.iterrows())\n",
    "    return groups\n",
    "group=grounping_sampling(datamod, 10,2)\n",
    "\n"
   ]
  },
  {
   "cell_type": "code",
   "execution_count": 34,
   "metadata": {},
   "outputs": [
    {
     "data": {
      "text/plain": [
       "32561"
      ]
     },
     "execution_count": 34,
     "metadata": {},
     "output_type": "execute_result"
    }
   ],
   "source": [
    "len(datamod)"
   ]
  }
 ],
 "metadata": {
  "kernelspec": {
   "display_name": "Python 3",
   "language": "python",
   "name": "python3"
  },
  "language_info": {
   "codemirror_mode": {
    "name": "ipython",
    "version": 3
   },
   "file_extension": ".py",
   "mimetype": "text/x-python",
   "name": "python",
   "nbconvert_exporter": "python",
   "pygments_lexer": "ipython3",
   "version": "3.10.12"
  }
 },
 "nbformat": 4,
 "nbformat_minor": 2
}

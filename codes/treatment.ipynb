{
 "cells": [
  {
   "cell_type": "code",
   "execution_count": null,
   "metadata": {},
   "outputs": [],
   "source": [
    "import pandas as pd\n",
    "import numpy as np\n",
    "import random\n",
    "dataset=pd.read_csv(\"example/id_3.csv\")\n",
    "datamod=dataset.copy() \n",
    "print(pd.__version__)\n",
    "print(np.__version__)"
   ]
  },
  {
   "cell_type": "markdown",
   "metadata": {},
   "source": [
    "### Times series convertion "
   ]
  },
  {
   "cell_type": "code",
   "execution_count": null,
   "metadata": {},
   "outputs": [],
   "source": [
    "serie = pd.Series(np.array(dataset['Daily Mean PM2.5 Concentration']), index = dataset['Date'])\n",
    "serie.index = pd.to_datetime(serie.index, format='%m/%d/%Y', errors='coerce')\n",
    "serie.sort_index(inplace=True)      # important to apply loc,  loc need corrected sort\n",
    "\n",
    "##for datasets\n",
    "dataset = dataset.dropna() \n",
    "\n",
    "data_unique = dataset.drop_duplicates(implace=True)\n",
    "print(f'DataFrame original shape: {data_original.shape}')\n",
    "print(f'data unique shape: {data_unique.shape}')"
   ]
  },
  {
   "cell_type": "markdown",
   "metadata": {},
   "source": [
    "### temporal resize"
   ]
  },
  {
   "cell_type": "code",
   "execution_count": null,
   "metadata": {},
   "outputs": [],
   "source": [
    "def resize_data_mod(time_freq):\n",
    "    global data_mod\n",
    "    \n",
    "    reset_data_mod()\n",
    "    \n",
    "    data_mod=data_mod.resample(time_freq).mean()\n",
    "    data_mod = data_mod.fillna(data_mod.mean()\n",
    "# resize_data_mod(\"30D\")\n",
    "data_mod.head(50)\n",
    " ##                 orrrrr\n",
    " data_mod_resampled = data_mod.resample(time_freq).mean().dropna()  # \n",
    " ##      ´spline´ for temporal is the best , 'linear'   low variation   , \n",
    "##  'Nearest Neighbors'   high variation, crazy data, low precion result, but best than other in this case  \n",
    "##     'Polinomial '  low rate, need adust degree  "
   ]
  },
  {
   "cell_type": "markdown",
   "metadata": {},
   "source": [
    "### others"
   ]
  },
  {
   "cell_type": "code",
   "execution_count": null,
   "metadata": {},
   "outputs": [],
   "source": [
    "print(type(serie))\n",
    "print(type(serie.index))\n",
    "print(serie.dtype)\n",
    "print(serie.ndim)\n",
    "print(serie.size)\n",
    "print(serie.info)"
   ]
  },
  {
   "cell_type": "code",
   "execution_count": null,
   "metadata": {},
   "outputs": [],
   "source": [
    "print (serie.shape)\n",
    "print (serie.describe)\n",
    "print(dataset.columns)      #only data frames"
   ]
  },
  {
   "cell_type": "code",
   "execution_count": null,
   "metadata": {},
   "outputs": [],
   "source": [
    "print(serie.iloc[1999-1-1:1999-1-4])   ## \"iloc doesn't use 0 in front, and the index needs to be in a date format.\"\n",
    "print(serie.loc[serie.index < \"2000-08\"]) "
   ]
  },
  {
   "cell_type": "code",
   "execution_count": null,
   "metadata": {},
   "outputs": [],
   "source": [
    "serie.sum()\n",
    "serie.mean()\n",
    "serie.min()\n",
    "serie.max()\n",
    "serie.loc[(serie.index >= \"2000-01\") & (serie.index < \"2002-01\")].sum()\n",
    "serie.loc[(pd.DatetimeIndex(serie.index).month == 7)].sum()"
   ]
  },
  {
   "cell_type": "code",
   "execution_count": null,
   "metadata": {},
   "outputs": [],
   "source": [
    "serie.index.unique\n",
    "serie.isna().sum()\n",
    "pd.DatetimeIndex(serie.index).year"
   ]
  }
 ],
 "metadata": {
  "kernelspec": {
   "display_name": "Python 3",
   "language": "python",
   "name": "python3"
  },
  "language_info": {
   "codemirror_mode": {
    "name": "ipython",
    "version": 3
   },
   "file_extension": ".py",
   "mimetype": "text/x-python",
   "name": "python",
   "nbconvert_exporter": "python",
   "pygments_lexer": "ipython3",
   "version": "3.10.12"
  }
 },
 "nbformat": 4,
 "nbformat_minor": 2
}

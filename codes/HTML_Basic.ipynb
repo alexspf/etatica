{
 "cells": [
  {
   "cell_type": "markdown",
   "metadata": {},
   "source": [
    "### HTML tags"
   ]
  },
  {
   "cell_type": "code",
   "execution_count": 3,
   "metadata": {},
   "outputs": [
    {
     "name": "stdout",
     "output_type": "stream",
     "text": [
      "<html>:Defines the beginning and end of the HTML document.\n",
      "<head>:Contains information about the document such as title, metadata, scripts, styles, etc.\n",
      "<title>:Defines the title of the page displayed in the browser tab.\n",
      "<body>:Contains all the visible content of the page such as text, images, links, etc.\n",
      "<h1>,<h2>,<h3>,<h4>,<h5>,<h6>:Header tags used to define header levels.<h1>is the most important header and<h6>is the least important.\n",
      "<p>:Defines a paragraph of text.\n",
      "<a>:Defines a hyperlink to another page or resource.\n",
      "<img>:Inserts an image into the page.\n",
      "<ul>,<ol>,<li>:<ul>creates an unordered list,<ol>creates an ordered list, and<li>defines each list item.\n",
      "<div>:Defines a generic division or container for elements.\n",
      "<span>:Defines a small section of text within an element.\n",
      "<table>,<tr>,<th>,<td>:Used to create tables.<table>defines a table,<tr>defines a row in the table,<th>defines a column header, and<td>defines a data cell.\n",
      "<form>, <input>, <button>: Used to create forms. <form> defines a form, <input> defines an input field, and <button> defines a submit button.\n",
      "<header>, <footer>, <nav>, <section>, <article>, <aside>: \n"
     ]
    }
   ],
   "source": [
    "print ( \n",
    "\"\"\"<html>:Defines the beginning and end of the HTML document.\n",
    "<head>:Contains information about the document such as title, metadata, scripts, styles, etc.\n",
    "<title>:Defines the title of the page displayed in the browser tab.\n",
    "<body>:Contains all the visible content of the page such as text, images, links, etc.\n",
    "<h1>,<h2>,<h3>,<h4>,<h5>,<h6>:Header tags used to define header levels.<h1>is the most important header and<h6>is the least important.\n",
    "<p>:Defines a paragraph of text.\n",
    "<a>:Defines a hyperlink to another page or resource.\n",
    "<img>:Inserts an image into the page.\n",
    "<ul>,<ol>,<li>:<ul>creates an unordered list,<ol>creates an ordered list, and<li>defines each list item.\n",
    "<div>:Defines a generic division or container for elements.\n",
    "<span>:Defines a small section of text within an element.\n",
    "<table>,<tr>,<th>,<td>:Used to create tables.<table>defines a table,<tr>defines a row in the table,<th>defines a column header, and<td>defines a data cell.\n",
    "<form>, <input>, <button>: Used to create forms. <form> defines a form, <input> defines an input field, and <button> defines a submit button.\n",
    "<header>, <footer>, <nav>, <section>, <article>, <aside>: \"\"\")\n",
    "    "
   ]
  },
  {
   "cell_type": "markdown",
   "metadata": {},
   "source": [
    "### HTML Body"
   ]
  },
  {
   "cell_type": "code",
   "execution_count": 6,
   "metadata": {
    "vscode": {
     "languageId": "html"
    }
   },
   "outputs": [
    {
     "data": {
      "text/html": [
       "<!DOCTYPE html>\n",
       "<html lang=\"en\">\n",
       "<head>\n",
       "    <meta charset=\"UTF-8\">\n",
       "    <meta name=\"viewport\" content=\"width=device-width, initial-scale=1.0\">\n",
       "    <title>Example HTML Structure</title>\n",
       "<body>\n",
       "\n",
       "    <header>\n",
       "        <h1>Welcome to My Website</h1>\n",
       "        <nav>\n",
       "            <ul>\n",
       "                <li><a href=\"#home\">Home</a></li>\n",
       "                <li><a href=\"#about\">About</a></li>\n",
       "                <li><a href=\"#contact\">Contact</a></li>\n",
       "            </ul>\n",
       "        </nav>\n",
       "    </header>\n",
       "\n",
       "    <main>\n",
       "        <section id=\"home\">\n",
       "            <h2>Home Section</h2>\n",
       "            <p>This is the home section of the website.</p>\n",
       "        </section>\n",
       "\n",
       "        <section id=\"about\">\n",
       "            <h2>About Section</h2>\n",
       "            <p>This is the about section of the website.</p>\n",
       "        </section>\n",
       "\n",
       "        <section id=\"contact\">\n",
       "            <h2>Contact Section</h2>\n",
       "            <p>This is the contact section of the website.</p>\n",
       "        </section>\n",
       "    </main>\n",
       "\n",
       "    <footer>\n",
       "        <p>&copy; 2024 My Website. All rights reserved.</p>\n",
       "    </footer>\n",
       "\n",
       "</body>\n",
       "</html>\n"
      ],
      "text/plain": [
       "<IPython.core.display.HTML object>"
      ]
     },
     "metadata": {},
     "output_type": "display_data"
    }
   ],
   "source": [
    "%%html\n",
    "<!DOCTYPE html>\n",
    "<html lang=\"en\">\n",
    "<head>\n",
    "    <meta charset=\"UTF-8\">\n",
    "    <meta name=\"viewport\" content=\"width=device-width, initial-scale=1.0\">\n",
    "    <title>Example HTML Structure</title>\n",
    "</head>\n",
    "<body>\n",
    "\n",
    "    <header>\n",
    "        <h1>Welcome to My Website</h1>\n",
    "        <nav>\n",
    "            <ul>\n",
    "                <li><a href=\"#home\">Home</a></li>\n",
    "                <li><a href=\"#about\">About</a></li>\n",
    "                <li><a href=\"#contact\">Contact</a></li>\n",
    "            </ul>\n",
    "        </nav>\n",
    "    </header>\n",
    "\n",
    "    <main>\n",
    "        <section id=\"home\">\n",
    "            <h2>Home Section</h2>\n",
    "            <p>This is the home section of the website.</p>\n",
    "        </section>\n",
    "\n",
    "        <section id=\"about\">\n",
    "            <h2>About Section</h2>\n",
    "            <p>This is the about section of the website.</p>\n",
    "        </section>\n",
    "\n",
    "        <section id=\"contact\">\n",
    "            <h2>Contact Section</h2>\n",
    "            <p>This is the contact section of the website.</p>\n",
    "        </section>\n",
    "    </main>\n",
    "\n",
    "    <footer>\n",
    "        <p>&copy; 2024 My Website. All rights reserved.</p>\n",
    "    </footer>\n",
    "\n",
    "</body>\n",
    "</html>\n"
   ]
  },
  {
   "cell_type": "markdown",
   "metadata": {},
   "source": [
    "## HTML Jupyter simple Block"
   ]
  },
  {
   "cell_type": "code",
   "execution_count": 1,
   "metadata": {},
   "outputs": [
    {
     "data": {
      "text/html": [
       "\n",
       "<!DOCTYPE html>\n",
       "<html>\n",
       "<head>\n",
       "<title>Exemplo HTML no Jupyter Notebook</title>\n",
       "</head>\n",
       "<body>\n",
       "\n",
       "<h1>Este é um exemplo de HTML dentro de um Jupyter Notebook</h1>\n",
       "<p>HTML é uma linguagem de marcação usada para criar páginas da web.</p>\n",
       "\n",
       "</body>\n",
       "</html>\n"
      ],
      "text/plain": [
       "<IPython.core.display.HTML object>"
      ]
     },
     "metadata": {},
     "output_type": "display_data"
    }
   ],
   "source": [
    "%%html\n",
    "\n",
    "<!DOCTYPE html>\n",
    "<html>\n",
    "<head>\n",
    "<title>Exemplo HTML no Jupyter Notebook</title>\n",
    "</head>\n",
    "<body>\n",
    "\n",
    "<h1>Este é um exemplo de HTML dentro de um Jupyter Notebook</h1>\n",
    "<p>HTML é uma linguagem de marcação usada para criar páginas da web.</p>\n",
    "\n",
    "</body>\n",
    "</html>"
   ]
  }
 ],
 "metadata": {
  "kernelspec": {
   "display_name": "Python 3",
   "language": "python",
   "name": "python3"
  },
  "language_info": {
   "codemirror_mode": {
    "name": "ipython",
    "version": 3
   },
   "file_extension": ".py",
   "mimetype": "text/x-python",
   "name": "python",
   "nbconvert_exporter": "python",
   "pygments_lexer": "ipython3",
   "version": "3.10.12"
  }
 },
 "nbformat": 4,
 "nbformat_minor": 2
}

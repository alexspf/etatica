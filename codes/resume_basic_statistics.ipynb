{
 "cells": [
  {
   "cell_type": "code",
   "execution_count": 32,
   "metadata": {},
   "outputs": [
    {
     "data": {
      "text/html": [
       "<!DOCTYPE html>\n",
       "<html lang=\"en\">\n",
       "<head>\n",
       "    <meta charset=\"UTF-8\">\n",
       "    <meta name=\"viewport\" content=\"width=device-width, initial-scale=1.0\">\n",
       "    <title>Statistics resume</title>\n",
       "    <style>\n",
       "        p {\n",
       "            text-indent: 20px; /* Define o espaçamento inicial de 20 pixels */\n",
       "        }\n",
       "</style>\n",
       "</head>\n",
       "<body>\n",
       "    <h1> This jupyter is make to resume principal statistics concepts in data science </h1>\n",
       "    \n",
       "    <h2> Basic statistics </h2> \n",
       "    <p> \n",
       "        Voce \n",
       "    <p>\n",
       "\n",
       "</body>\n",
       "</html>\n"
      ],
      "text/plain": [
       "<IPython.core.display.HTML object>"
      ]
     },
     "metadata": {},
     "output_type": "display_data"
    }
   ],
   "source": [
    "%%html\n",
    "<!DOCTYPE html>\n",
    "<html lang=\"en\">\n",
    "<head>\n",
    "    <meta charset=\"UTF-8\">\n",
    "    <meta name=\"viewport\" content=\"width=device-width, initial-scale=1.0\">\n",
    "    <title>Statistics resume</title>\n",
    "    <style>\n",
    "        p {\n",
    "            text-indent: 20px;\n",
    "        }\n",
    "</style>\n",
    "</head>\n",
    "<body>\n",
    "    <h1> This jupyter is make to resume principal statistics concepts in data science </h1>\n",
    "    \n",
    "    <h2> Basic statistics </h2> \n",
    "    <p> \n",
    "        test\n",
    "    <p>\n",
    "\n",
    "</body>\n",
    "</html>\n"
   ]
  },
  {
   "cell_type": "markdown",
   "metadata": {},
   "source": []
  }
 ],
 "metadata": {
  "kernelspec": {
   "display_name": "Python 3",
   "language": "python",
   "name": "python3"
  },
  "language_info": {
   "codemirror_mode": {
    "name": "ipython",
    "version": 3
   },
   "file_extension": ".py",
   "mimetype": "text/x-python",
   "name": "python",
   "nbconvert_exporter": "python",
   "pygments_lexer": "ipython3",
   "version": "3.10.12"
  }
 },
 "nbformat": 4,
 "nbformat_minor": 2
}
